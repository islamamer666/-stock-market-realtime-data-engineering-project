{
  "metadata": {
    "language_info": {
      "name": ""
    },
    "kernelspec": {
      "name": "python",
      "display_name": "Python (Pyodide)",
      "language": "python"
    }
  },
  "nbformat_minor": 4,
  "nbformat": 4,
  "cells": [
    {
      "cell_type": "code",
      "source": "from kafka import KafkaConsumer\nfrom time import sleep\nfrom json import dumps,loads\nimport json\nfrom s3fs import S3FileSystem",
      "metadata": {},
      "execution_count": null,
      "outputs": []
    },
    {
      "cell_type": "code",
      "source": "consumer = KafkaConsumer(\n    'demo_test',\n     bootstrap_servers=[':9092'], #add your IP here\n    value_deserializer=lambda x: loads(x.decode('utf-8')))",
      "metadata": {},
      "execution_count": null,
      "outputs": []
    },
    {
      "cell_type": "code",
      "source": "# for c in consumer:\n#     print(c.value)",
      "metadata": {},
      "execution_count": null,
      "outputs": []
    },
    {
      "cell_type": "code",
      "source": "s3 = S3FileSystem()",
      "metadata": {},
      "execution_count": null,
      "outputs": []
    },
    {
      "cell_type": "code",
      "source": "for count, i in enumerate(consumer):\n    with s3.open(\"s3://kafka-stock-market-tutorial-youtube-darshil/stock_market_{}.json\".format(count), 'w') as file:\n        json.dump(i.value, file)  ",
      "metadata": {},
      "execution_count": null,
      "outputs": []
    }
  ]
}