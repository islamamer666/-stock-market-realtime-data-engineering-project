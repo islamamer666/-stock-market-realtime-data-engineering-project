{
  "metadata": {
    "language_info": {
      "name": ""
    },
    "kernelspec": {
      "name": "python",
      "display_name": "Python (Pyodide)",
      "language": "python"
    }
  },
  "nbformat_minor": 4,
  "nbformat": 4,
  "cells": [
    {
      "cell_type": "code",
      "source": "pip install kafka-python",
      "metadata": {},
      "execution_count": null,
      "outputs": []
    },
    {
      "cell_type": "code",
      "source": "import pandas as pd\nfrom kafka import KafkaProducer\nfrom time import sleep\nfrom json import dumps\nimport json",
      "metadata": {},
      "execution_count": null,
      "outputs": []
    },
    {
      "cell_type": "code",
      "source": "producer = KafkaProducer(bootstrap_servers=[':9092'], #change ip here\n                         value_serializer=lambda x: \n                         dumps(x).encode('utf-8'))",
      "metadata": {},
      "execution_count": null,
      "outputs": []
    },
    {
      "cell_type": "code",
      "source": "producer.send('demo_test', value={'surnasdasdame':'parasdasdmar'})",
      "metadata": {},
      "execution_count": null,
      "outputs": []
    },
    {
      "cell_type": "code",
      "source": "df = pd.read_csv(\"data/indexProcessed.csv\")",
      "metadata": {},
      "execution_count": null,
      "outputs": []
    },
    {
      "cell_type": "code",
      "source": "df.head()",
      "metadata": {},
      "execution_count": null,
      "outputs": []
    },
    {
      "cell_type": "code",
      "source": "while True:\n    dict_stock = df.sample(1).to_dict(orient=\"records\")[0]\n    producer.send('demo_test', value=dict_stock)\n    sleep(1)",
      "metadata": {},
      "execution_count": null,
      "outputs": []
    },
    {
      "cell_type": "code",
      "source": "producer.flush() #clear data from kafka server",
      "metadata": {},
      "execution_count": null,
      "outputs": []
    }
  ]
}